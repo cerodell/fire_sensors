{
 "cells": [
  {
   "cell_type": "markdown",
   "metadata": {
    "lines_to_next_cell": 0
   },
   "source": [
    "# Performance\n",
    "In a laboratory setting, we compared the low-cost UBC AQ sensors to a [GRIMM](https://www.grimm-aerosol.com/products-en/dust-monitors/the-dust-decoder/11-d/) OPC sensor (Model: 1.109).  We produced air-borne salt particles as a measurand by feeding salt solutions with known molar concentrations into an atomizer. After the atomizer made the air-borne salt particles, they traveled through an adjustable filter (enabling concentrations control) and into a 22L glass chamber containing the UBC AQ sensors (Fig 1). The Grimm OPC sensor pulled air from the glass chamber to sample the salt concentrations simultaneously. There was an exhaust port to maintain persistent salt concentration levels and a small fan within the glass chamber to mix the air. \n",
    "<br>\n",
    "<br>\n",
    "<img src=\"_static/img/chamber.jpeg\" alt=\"chamber\" width=\"300\"/>\n",
    "<br>\n",
    "<br>"
   ]
  },
  {
   "cell_type": "markdown",
   "metadata": {},
   "source": [
    "Lets dive in."
   ]
  },
  {
   "cell_type": "code",
   "execution_count": 1,
   "metadata": {
    "lines_to_next_cell": 0
   },
   "outputs": [
    {
     "name": "stdout",
     "output_type": "stream",
     "text": [
      "******************************\n",
      "context imported. Front of path:\n",
      "/Users/rodell/Documents/Arduino/docs\n",
      "/Users/rodell/Documents/Arduino/docs/source\n",
      "******************************\n",
      "\n",
      "through /Users/rodell/Documents/Arduino/docs/source/context.py -- pha\n"
     ]
    }
   ],
   "source": [
    "import context\n",
    "import pickle\n",
    "import numpy as np\n",
    "import pandas as pd\n",
    "from functools import reduce\n",
    "import matplotlib.pyplot as plt\n",
    "from matplotlib.dates import DateFormatter\n",
    "import matplotlib.pylab as pylab\n",
    "import sklearn\n",
    "from sklearn.neural_network import MLPRegressor\n",
    "from sklearn.preprocessing import MinMaxScaler\n",
    "\n",
    "\n",
    "from datetime import datetime, timedelta\n",
    "from pathlib import Path\n",
    "from context import data_dir, save_dir\n",
    "\n",
    "# Back pratices but this keeps the notebook clean when displaying on html\n",
    "import warnings\n",
    "warnings.filterwarnings(\"ignore\")"
   ]
  },
  {
   "cell_type": "markdown",
   "metadata": {},
   "source": [
    "\n",
    "## Import OPC data!\n",
    "UBC AQ data was one minute averaged to match the GRIMM sample rate."
   ]
  },
  {
   "cell_type": "code",
   "execution_count": 2,
   "metadata": {},
   "outputs": [],
   "source": [
    "\n",
    "## define date of interest\n",
    "date_of_int = '20210430' # options 20210430 or 20210502\n",
    "\n",
    "\n",
    "def prepare_df(ubc_pm, date_of_int):\n",
    "  \"\"\"\n",
    "  Function cleans UBC OPCs data by removing duplicate headers and dropping error values. \n",
    "  Once cleaned takes 1 min avg of data to match GRIM sample rate.\n",
    "  \"\"\"\n",
    "  df = pd.read_csv(str(data_dir) + ubc_pm + date_of_int + '.TXT')\n",
    "  df = df.drop(df[df.rtctime == 'rtctime'].index)\n",
    "  df = df[~df['pm10_env'].str.contains('Rec')]\n",
    "  time = pd.to_datetime(df['rtctime'])\n",
    "  df.index = pd.DatetimeIndex(pd.to_datetime(df['rtctime']))\n",
    "  df = df.drop(['rtctime'], axis=1)\n",
    "  df = df.astype(float)\n",
    "  df = df[df['pm10_env'] < 4000]\n",
    "  df = df[df['pm25_env'] < 4000]\n",
    "  df = df[df['pm100_env'] < 4000]\n",
    "\n",
    "  df = df.resample('1Min').mean()\n",
    "\n",
    "  col = ubc_pm.strip('/').replace('-','_')\n",
    "  new_name = {}\n",
    "  for name in list(df):\n",
    "    new_name.update({name : col+'_'+name} )\n",
    "  df = df.rename(new_name, axis='columns')\n",
    "\n",
    "  return df\n",
    "\n"
   ]
  },
  {
   "cell_type": "markdown",
   "metadata": {
    "lines_to_next_cell": 0
   },
   "source": [
    "Open the ubc opcs"
   ]
  },
  {
   "cell_type": "code",
   "execution_count": 3,
   "metadata": {},
   "outputs": [
    {
     "ename": "FileNotFoundError",
     "evalue": "[Errno 2] No such file or directory: '/Users/rodell/Documents/Arduino/docs/data/UBC-PM-01/20210430.TXT'",
     "output_type": "error",
     "traceback": [
      "\u001b[0;31m---------------------------------------------------------------------------\u001b[0m",
      "\u001b[0;31mFileNotFoundError\u001b[0m                         Traceback (most recent call last)",
      "\u001b[0;32m<ipython-input-3-d42620ba145d>\u001b[0m in \u001b[0;36m<module>\u001b[0;34m\u001b[0m\n\u001b[0;32m----> 1\u001b[0;31m \u001b[0mubc_list\u001b[0m \u001b[0;34m=\u001b[0m \u001b[0;34m[\u001b[0m\u001b[0mprepare_df\u001b[0m\u001b[0;34m(\u001b[0m\u001b[0;34mf\"/UBC-PM-0{i}/\"\u001b[0m\u001b[0;34m,\u001b[0m \u001b[0mdate_of_int\u001b[0m\u001b[0;34m)\u001b[0m \u001b[0;32mfor\u001b[0m \u001b[0mi\u001b[0m \u001b[0;32min\u001b[0m \u001b[0mrange\u001b[0m\u001b[0;34m(\u001b[0m\u001b[0;36m1\u001b[0m\u001b[0;34m,\u001b[0m\u001b[0;36m6\u001b[0m\u001b[0;34m)\u001b[0m\u001b[0;34m]\u001b[0m\u001b[0;34m\u001b[0m\u001b[0;34m\u001b[0m\u001b[0m\n\u001b[0m\u001b[1;32m      2\u001b[0m \u001b[0mdf_ubc\u001b[0m \u001b[0;34m=\u001b[0m \u001b[0mreduce\u001b[0m\u001b[0;34m(\u001b[0m\u001b[0;32mlambda\u001b[0m \u001b[0mx\u001b[0m\u001b[0;34m,\u001b[0m \u001b[0my\u001b[0m\u001b[0;34m:\u001b[0m \u001b[0mpd\u001b[0m\u001b[0;34m.\u001b[0m\u001b[0mmerge\u001b[0m\u001b[0;34m(\u001b[0m\u001b[0mx\u001b[0m\u001b[0;34m,\u001b[0m \u001b[0my\u001b[0m\u001b[0;34m,\u001b[0m \u001b[0mon\u001b[0m\u001b[0;34m=\u001b[0m\u001b[0;34m'rtctime'\u001b[0m\u001b[0;34m)\u001b[0m\u001b[0;34m,\u001b[0m \u001b[0mubc_list\u001b[0m\u001b[0;34m)\u001b[0m\u001b[0;34m\u001b[0m\u001b[0;34m\u001b[0m\u001b[0m\n\u001b[1;32m      3\u001b[0m \u001b[0mdf_ubc\u001b[0m\u001b[0;34m.\u001b[0m\u001b[0mcolumns\u001b[0m \u001b[0;34m=\u001b[0m \u001b[0mdf_ubc\u001b[0m\u001b[0;34m.\u001b[0m\u001b[0mcolumns\u001b[0m\u001b[0;34m.\u001b[0m\u001b[0mstr\u001b[0m\u001b[0;34m.\u001b[0m\u001b[0mreplace\u001b[0m\u001b[0;34m(\u001b[0m\u001b[0;34m'_y'\u001b[0m\u001b[0;34m,\u001b[0m \u001b[0;34m''\u001b[0m\u001b[0;34m)\u001b[0m\u001b[0;34m\u001b[0m\u001b[0;34m\u001b[0m\u001b[0m\n",
      "\u001b[0;32m<ipython-input-3-d42620ba145d>\u001b[0m in \u001b[0;36m<listcomp>\u001b[0;34m(.0)\u001b[0m\n\u001b[0;32m----> 1\u001b[0;31m \u001b[0mubc_list\u001b[0m \u001b[0;34m=\u001b[0m \u001b[0;34m[\u001b[0m\u001b[0mprepare_df\u001b[0m\u001b[0;34m(\u001b[0m\u001b[0;34mf\"/UBC-PM-0{i}/\"\u001b[0m\u001b[0;34m,\u001b[0m \u001b[0mdate_of_int\u001b[0m\u001b[0;34m)\u001b[0m \u001b[0;32mfor\u001b[0m \u001b[0mi\u001b[0m \u001b[0;32min\u001b[0m \u001b[0mrange\u001b[0m\u001b[0;34m(\u001b[0m\u001b[0;36m1\u001b[0m\u001b[0;34m,\u001b[0m\u001b[0;36m6\u001b[0m\u001b[0;34m)\u001b[0m\u001b[0;34m]\u001b[0m\u001b[0;34m\u001b[0m\u001b[0;34m\u001b[0m\u001b[0m\n\u001b[0m\u001b[1;32m      2\u001b[0m \u001b[0mdf_ubc\u001b[0m \u001b[0;34m=\u001b[0m \u001b[0mreduce\u001b[0m\u001b[0;34m(\u001b[0m\u001b[0;32mlambda\u001b[0m \u001b[0mx\u001b[0m\u001b[0;34m,\u001b[0m \u001b[0my\u001b[0m\u001b[0;34m:\u001b[0m \u001b[0mpd\u001b[0m\u001b[0;34m.\u001b[0m\u001b[0mmerge\u001b[0m\u001b[0;34m(\u001b[0m\u001b[0mx\u001b[0m\u001b[0;34m,\u001b[0m \u001b[0my\u001b[0m\u001b[0;34m,\u001b[0m \u001b[0mon\u001b[0m\u001b[0;34m=\u001b[0m\u001b[0;34m'rtctime'\u001b[0m\u001b[0;34m)\u001b[0m\u001b[0;34m,\u001b[0m \u001b[0mubc_list\u001b[0m\u001b[0;34m)\u001b[0m\u001b[0;34m\u001b[0m\u001b[0;34m\u001b[0m\u001b[0m\n\u001b[1;32m      3\u001b[0m \u001b[0mdf_ubc\u001b[0m\u001b[0;34m.\u001b[0m\u001b[0mcolumns\u001b[0m \u001b[0;34m=\u001b[0m \u001b[0mdf_ubc\u001b[0m\u001b[0;34m.\u001b[0m\u001b[0mcolumns\u001b[0m\u001b[0;34m.\u001b[0m\u001b[0mstr\u001b[0m\u001b[0;34m.\u001b[0m\u001b[0mreplace\u001b[0m\u001b[0;34m(\u001b[0m\u001b[0;34m'_y'\u001b[0m\u001b[0;34m,\u001b[0m \u001b[0;34m''\u001b[0m\u001b[0;34m)\u001b[0m\u001b[0;34m\u001b[0m\u001b[0;34m\u001b[0m\u001b[0m\n",
      "\u001b[0;32m<ipython-input-2-d14a11630560>\u001b[0m in \u001b[0;36mprepare_df\u001b[0;34m(ubc_pm, date_of_int)\u001b[0m\n\u001b[1;32m      8\u001b[0m   \u001b[0mOnce\u001b[0m \u001b[0mcleaned\u001b[0m \u001b[0mtakes\u001b[0m \u001b[0;36m1\u001b[0m \u001b[0mmin\u001b[0m \u001b[0mavg\u001b[0m \u001b[0mof\u001b[0m \u001b[0mdata\u001b[0m \u001b[0mto\u001b[0m \u001b[0mmatch\u001b[0m \u001b[0mGRIM\u001b[0m \u001b[0msample\u001b[0m \u001b[0mrate\u001b[0m\u001b[0;34m.\u001b[0m\u001b[0;34m\u001b[0m\u001b[0;34m\u001b[0m\u001b[0m\n\u001b[1;32m      9\u001b[0m   \"\"\"\n\u001b[0;32m---> 10\u001b[0;31m   \u001b[0mdf\u001b[0m \u001b[0;34m=\u001b[0m \u001b[0mpd\u001b[0m\u001b[0;34m.\u001b[0m\u001b[0mread_csv\u001b[0m\u001b[0;34m(\u001b[0m\u001b[0mstr\u001b[0m\u001b[0;34m(\u001b[0m\u001b[0mdata_dir\u001b[0m\u001b[0;34m)\u001b[0m \u001b[0;34m+\u001b[0m \u001b[0mubc_pm\u001b[0m \u001b[0;34m+\u001b[0m \u001b[0mdate_of_int\u001b[0m \u001b[0;34m+\u001b[0m \u001b[0;34m'.TXT'\u001b[0m\u001b[0;34m)\u001b[0m\u001b[0;34m\u001b[0m\u001b[0;34m\u001b[0m\u001b[0m\n\u001b[0m\u001b[1;32m     11\u001b[0m   \u001b[0mdf\u001b[0m \u001b[0;34m=\u001b[0m \u001b[0mdf\u001b[0m\u001b[0;34m.\u001b[0m\u001b[0mdrop\u001b[0m\u001b[0;34m(\u001b[0m\u001b[0mdf\u001b[0m\u001b[0;34m[\u001b[0m\u001b[0mdf\u001b[0m\u001b[0;34m.\u001b[0m\u001b[0mrtctime\u001b[0m \u001b[0;34m==\u001b[0m \u001b[0;34m'rtctime'\u001b[0m\u001b[0;34m]\u001b[0m\u001b[0;34m.\u001b[0m\u001b[0mindex\u001b[0m\u001b[0;34m)\u001b[0m\u001b[0;34m\u001b[0m\u001b[0;34m\u001b[0m\u001b[0m\n\u001b[1;32m     12\u001b[0m   \u001b[0mdf\u001b[0m \u001b[0;34m=\u001b[0m \u001b[0mdf\u001b[0m\u001b[0;34m[\u001b[0m\u001b[0;34m~\u001b[0m\u001b[0mdf\u001b[0m\u001b[0;34m[\u001b[0m\u001b[0;34m'pm10_env'\u001b[0m\u001b[0;34m]\u001b[0m\u001b[0;34m.\u001b[0m\u001b[0mstr\u001b[0m\u001b[0;34m.\u001b[0m\u001b[0mcontains\u001b[0m\u001b[0;34m(\u001b[0m\u001b[0;34m'Rec'\u001b[0m\u001b[0;34m)\u001b[0m\u001b[0;34m]\u001b[0m\u001b[0;34m\u001b[0m\u001b[0;34m\u001b[0m\u001b[0m\n",
      "\u001b[0;32m~/miniconda3/envs/opc/lib/python3.7/site-packages/pandas/io/parsers.py\u001b[0m in \u001b[0;36mread_csv\u001b[0;34m(filepath_or_buffer, sep, delimiter, header, names, index_col, usecols, squeeze, prefix, mangle_dupe_cols, dtype, engine, converters, true_values, false_values, skipinitialspace, skiprows, skipfooter, nrows, na_values, keep_default_na, na_filter, verbose, skip_blank_lines, parse_dates, infer_datetime_format, keep_date_col, date_parser, dayfirst, cache_dates, iterator, chunksize, compression, thousands, decimal, lineterminator, quotechar, quoting, doublequote, escapechar, comment, encoding, dialect, error_bad_lines, warn_bad_lines, delim_whitespace, low_memory, memory_map, float_precision)\u001b[0m\n\u001b[1;32m    684\u001b[0m     )\n\u001b[1;32m    685\u001b[0m \u001b[0;34m\u001b[0m\u001b[0m\n\u001b[0;32m--> 686\u001b[0;31m     \u001b[0;32mreturn\u001b[0m \u001b[0m_read\u001b[0m\u001b[0;34m(\u001b[0m\u001b[0mfilepath_or_buffer\u001b[0m\u001b[0;34m,\u001b[0m \u001b[0mkwds\u001b[0m\u001b[0;34m)\u001b[0m\u001b[0;34m\u001b[0m\u001b[0;34m\u001b[0m\u001b[0m\n\u001b[0m\u001b[1;32m    687\u001b[0m \u001b[0;34m\u001b[0m\u001b[0m\n\u001b[1;32m    688\u001b[0m \u001b[0;34m\u001b[0m\u001b[0m\n",
      "\u001b[0;32m~/miniconda3/envs/opc/lib/python3.7/site-packages/pandas/io/parsers.py\u001b[0m in \u001b[0;36m_read\u001b[0;34m(filepath_or_buffer, kwds)\u001b[0m\n\u001b[1;32m    450\u001b[0m \u001b[0;34m\u001b[0m\u001b[0m\n\u001b[1;32m    451\u001b[0m     \u001b[0;31m# Create the parser.\u001b[0m\u001b[0;34m\u001b[0m\u001b[0;34m\u001b[0m\u001b[0;34m\u001b[0m\u001b[0m\n\u001b[0;32m--> 452\u001b[0;31m     \u001b[0mparser\u001b[0m \u001b[0;34m=\u001b[0m \u001b[0mTextFileReader\u001b[0m\u001b[0;34m(\u001b[0m\u001b[0mfp_or_buf\u001b[0m\u001b[0;34m,\u001b[0m \u001b[0;34m**\u001b[0m\u001b[0mkwds\u001b[0m\u001b[0;34m)\u001b[0m\u001b[0;34m\u001b[0m\u001b[0;34m\u001b[0m\u001b[0m\n\u001b[0m\u001b[1;32m    453\u001b[0m \u001b[0;34m\u001b[0m\u001b[0m\n\u001b[1;32m    454\u001b[0m     \u001b[0;32mif\u001b[0m \u001b[0mchunksize\u001b[0m \u001b[0;32mor\u001b[0m \u001b[0miterator\u001b[0m\u001b[0;34m:\u001b[0m\u001b[0;34m\u001b[0m\u001b[0;34m\u001b[0m\u001b[0m\n",
      "\u001b[0;32m~/miniconda3/envs/opc/lib/python3.7/site-packages/pandas/io/parsers.py\u001b[0m in \u001b[0;36m__init__\u001b[0;34m(self, f, engine, **kwds)\u001b[0m\n\u001b[1;32m    934\u001b[0m             \u001b[0mself\u001b[0m\u001b[0;34m.\u001b[0m\u001b[0moptions\u001b[0m\u001b[0;34m[\u001b[0m\u001b[0;34m\"has_index_names\"\u001b[0m\u001b[0;34m]\u001b[0m \u001b[0;34m=\u001b[0m \u001b[0mkwds\u001b[0m\u001b[0;34m[\u001b[0m\u001b[0;34m\"has_index_names\"\u001b[0m\u001b[0;34m]\u001b[0m\u001b[0;34m\u001b[0m\u001b[0;34m\u001b[0m\u001b[0m\n\u001b[1;32m    935\u001b[0m \u001b[0;34m\u001b[0m\u001b[0m\n\u001b[0;32m--> 936\u001b[0;31m         \u001b[0mself\u001b[0m\u001b[0;34m.\u001b[0m\u001b[0m_make_engine\u001b[0m\u001b[0;34m(\u001b[0m\u001b[0mself\u001b[0m\u001b[0;34m.\u001b[0m\u001b[0mengine\u001b[0m\u001b[0;34m)\u001b[0m\u001b[0;34m\u001b[0m\u001b[0;34m\u001b[0m\u001b[0m\n\u001b[0m\u001b[1;32m    937\u001b[0m \u001b[0;34m\u001b[0m\u001b[0m\n\u001b[1;32m    938\u001b[0m     \u001b[0;32mdef\u001b[0m \u001b[0mclose\u001b[0m\u001b[0;34m(\u001b[0m\u001b[0mself\u001b[0m\u001b[0;34m)\u001b[0m\u001b[0;34m:\u001b[0m\u001b[0;34m\u001b[0m\u001b[0;34m\u001b[0m\u001b[0m\n",
      "\u001b[0;32m~/miniconda3/envs/opc/lib/python3.7/site-packages/pandas/io/parsers.py\u001b[0m in \u001b[0;36m_make_engine\u001b[0;34m(self, engine)\u001b[0m\n\u001b[1;32m   1166\u001b[0m     \u001b[0;32mdef\u001b[0m \u001b[0m_make_engine\u001b[0m\u001b[0;34m(\u001b[0m\u001b[0mself\u001b[0m\u001b[0;34m,\u001b[0m \u001b[0mengine\u001b[0m\u001b[0;34m=\u001b[0m\u001b[0;34m\"c\"\u001b[0m\u001b[0;34m)\u001b[0m\u001b[0;34m:\u001b[0m\u001b[0;34m\u001b[0m\u001b[0;34m\u001b[0m\u001b[0m\n\u001b[1;32m   1167\u001b[0m         \u001b[0;32mif\u001b[0m \u001b[0mengine\u001b[0m \u001b[0;34m==\u001b[0m \u001b[0;34m\"c\"\u001b[0m\u001b[0;34m:\u001b[0m\u001b[0;34m\u001b[0m\u001b[0;34m\u001b[0m\u001b[0m\n\u001b[0;32m-> 1168\u001b[0;31m             \u001b[0mself\u001b[0m\u001b[0;34m.\u001b[0m\u001b[0m_engine\u001b[0m \u001b[0;34m=\u001b[0m \u001b[0mCParserWrapper\u001b[0m\u001b[0;34m(\u001b[0m\u001b[0mself\u001b[0m\u001b[0;34m.\u001b[0m\u001b[0mf\u001b[0m\u001b[0;34m,\u001b[0m \u001b[0;34m**\u001b[0m\u001b[0mself\u001b[0m\u001b[0;34m.\u001b[0m\u001b[0moptions\u001b[0m\u001b[0;34m)\u001b[0m\u001b[0;34m\u001b[0m\u001b[0;34m\u001b[0m\u001b[0m\n\u001b[0m\u001b[1;32m   1169\u001b[0m         \u001b[0;32melse\u001b[0m\u001b[0;34m:\u001b[0m\u001b[0;34m\u001b[0m\u001b[0;34m\u001b[0m\u001b[0m\n\u001b[1;32m   1170\u001b[0m             \u001b[0;32mif\u001b[0m \u001b[0mengine\u001b[0m \u001b[0;34m==\u001b[0m \u001b[0;34m\"python\"\u001b[0m\u001b[0;34m:\u001b[0m\u001b[0;34m\u001b[0m\u001b[0;34m\u001b[0m\u001b[0m\n",
      "\u001b[0;32m~/miniconda3/envs/opc/lib/python3.7/site-packages/pandas/io/parsers.py\u001b[0m in \u001b[0;36m__init__\u001b[0;34m(self, src, **kwds)\u001b[0m\n\u001b[1;32m   1996\u001b[0m         \u001b[0mkwds\u001b[0m\u001b[0;34m[\u001b[0m\u001b[0;34m\"usecols\"\u001b[0m\u001b[0;34m]\u001b[0m \u001b[0;34m=\u001b[0m \u001b[0mself\u001b[0m\u001b[0;34m.\u001b[0m\u001b[0musecols\u001b[0m\u001b[0;34m\u001b[0m\u001b[0;34m\u001b[0m\u001b[0m\n\u001b[1;32m   1997\u001b[0m \u001b[0;34m\u001b[0m\u001b[0m\n\u001b[0;32m-> 1998\u001b[0;31m         \u001b[0mself\u001b[0m\u001b[0;34m.\u001b[0m\u001b[0m_reader\u001b[0m \u001b[0;34m=\u001b[0m \u001b[0mparsers\u001b[0m\u001b[0;34m.\u001b[0m\u001b[0mTextReader\u001b[0m\u001b[0;34m(\u001b[0m\u001b[0msrc\u001b[0m\u001b[0;34m,\u001b[0m \u001b[0;34m**\u001b[0m\u001b[0mkwds\u001b[0m\u001b[0;34m)\u001b[0m\u001b[0;34m\u001b[0m\u001b[0;34m\u001b[0m\u001b[0m\n\u001b[0m\u001b[1;32m   1999\u001b[0m         \u001b[0mself\u001b[0m\u001b[0;34m.\u001b[0m\u001b[0munnamed_cols\u001b[0m \u001b[0;34m=\u001b[0m \u001b[0mself\u001b[0m\u001b[0;34m.\u001b[0m\u001b[0m_reader\u001b[0m\u001b[0;34m.\u001b[0m\u001b[0munnamed_cols\u001b[0m\u001b[0;34m\u001b[0m\u001b[0;34m\u001b[0m\u001b[0m\n\u001b[1;32m   2000\u001b[0m \u001b[0;34m\u001b[0m\u001b[0m\n",
      "\u001b[0;32mpandas/_libs/parsers.pyx\u001b[0m in \u001b[0;36mpandas._libs.parsers.TextReader.__cinit__\u001b[0;34m()\u001b[0m\n",
      "\u001b[0;32mpandas/_libs/parsers.pyx\u001b[0m in \u001b[0;36mpandas._libs.parsers.TextReader._setup_parser_source\u001b[0;34m()\u001b[0m\n",
      "\u001b[0;31mFileNotFoundError\u001b[0m: [Errno 2] No such file or directory: '/Users/rodell/Documents/Arduino/docs/data/UBC-PM-01/20210430.TXT'"
     ]
    }
   ],
   "source": [
    "\n",
    "ubc_list = [prepare_df(f\"/UBC-PM-0{i}/\", date_of_int) for i in range(1,6)]\n",
    "df_ubc = reduce(lambda x, y: pd.merge(x, y, on='rtctime'), ubc_list)\n",
    "df_ubc.columns = df_ubc.columns.str.replace('_y', '')"
   ]
  },
  {
   "cell_type": "markdown",
   "metadata": {
    "lines_to_next_cell": 0
   },
   "source": [
    "Open the grim opc"
   ]
  },
  {
   "cell_type": "code",
   "execution_count": null,
   "metadata": {
    "lines_to_next_cell": 2
   },
   "outputs": [],
   "source": [
    "def open_grimm(date_of_int, min_ubc):\n",
    "  try:\n",
    "    df_grim = pd.read_csv(str(data_dir) + f'/GRIM/{date_of_int}.csv')\n",
    "    df_grim['date & time'] = pd.to_datetime(df_grim['date & time'])\n",
    "  except:\n",
    "    pathlist = sorted(Path(str(data_dir) + '/2021_OPCintercomparison/').glob(f'{date_of_int}*'))\n",
    "    sheets = ['PM values', 'Count values', 'Mass values', 'Log values']\n",
    "    df_grim = [pd.read_excel(f'{pathlist[0]}/{pathlist[0].stem}_sample01.xlsx', sheet_name= sheet, skiprows=4, engine='openpyxl') for sheet in sheets]\n",
    "    df_grim = reduce(lambda x, y: pd.merge(x, y, on='date & time'), df_grim)\n",
    "    df_grim['date & time'] = pd.to_datetime(df_grim['date & time'], dayfirst=True)\n",
    "    df_grim.to_csv(str(data_dir) + f'/GRIM/{date_of_int}.csv', index=False)\n",
    "\n",
    "\n",
    "  df_grim['date & time'] = df_grim['date & time'].dt.round('1min')  \n",
    "  df_grim = df_grim.set_index('date & time')\n",
    "  df_grim = df_grim.join(min_ubc, how='outer')\n",
    "  df_grim = df_grim.dropna()\n",
    "  return df_grim\n",
    "\n",
    "min_ubc = np.argmin([len(ubc_list[i]) for i in range(len(ubc_list))])\n",
    "df_grim = open_grimm(date_of_int, ubc_list[min_ubc])"
   ]
  },
  {
   "cell_type": "markdown",
   "metadata": {
    "lines_to_next_cell": 0
   },
   "source": [
    "Merge UBC dfs with Grimm df and print first five rows "
   ]
  },
  {
   "cell_type": "code",
   "execution_count": null,
   "metadata": {
    "lines_to_next_cell": 0
   },
   "outputs": [],
   "source": [
    "df_final = pd.merge(left=df_grim, right=df_ubc, left_index=True, right_index=True, how='left')\n",
    "df_final.columns = df_final.columns.str.replace('_y', '')\n",
    "df_final.head()"
   ]
  },
  {
   "cell_type": "markdown",
   "metadata": {
    "lines_to_next_cell": 0
   },
   "source": [
    "Define default font sizes for ploting"
   ]
  },
  {
   "cell_type": "code",
   "execution_count": null,
   "metadata": {
    "lines_to_next_cell": 2
   },
   "outputs": [],
   "source": [
    "params = {\n",
    "         'xtick.labelsize':14,\n",
    "         'ytick.labelsize': 14,\n",
    "          'axes.labelsize':14,\n",
    "\n",
    "         }\n",
    "\n",
    "pylab.rcParams.update(params)"
   ]
  },
  {
   "cell_type": "markdown",
   "metadata": {
    "lines_to_next_cell": 0
   },
   "source": [
    "### Plot PM 1.0 "
   ]
  },
  {
   "cell_type": "code",
   "execution_count": null,
   "metadata": {
    "lines_to_next_cell": 0
   },
   "outputs": [],
   "source": [
    "\n",
    "colors = plt.rcParams['axes.prop_cycle'].by_key()['color']\n",
    "\n",
    "\n",
    "fig = plt.figure(figsize=(14, 12))\n",
    "fig.autofmt_xdate()\n",
    "xfmt = DateFormatter(\"%m-%d %H:00\")\n",
    "fig.suptitle(r\"PM 1.0 ($\\frac{\\mu g}{m^3}$)\", fontsize=16)\n",
    "ax = fig.add_subplot(2, 1, 2)\n",
    "ax.plot(df_final.index,df_final['PM1 [ug/m3]'], lw = 4.0, label = 'GRIMM', color = colors[0])\n",
    "ax.plot(df_final.index,df_final['UBC_PM_01_pm10_env'], label = 'UBC-PM-01', color = colors[1])\n",
    "# ax.plot(df_final.index,df_final['UBC_PM_02_pm10_env'], label = 'UBC-PM-02', color = colors[2])\n",
    "ax.plot(df_final.index,df_final['UBC_PM_03_pm10_env'], label = 'UBC-PM-03', color = colors[2])\n",
    "ax.plot(df_final.index,df_final['UBC_PM_04_pm10_env'], label = 'UBC-PM-04', color = colors[3])\n",
    "ax.plot(df_final.index,df_final['UBC_PM_05_pm10_env'], label = 'UBC-PM-05', color = colors[4])\n",
    "ax.set_ylabel(r'$\\frac{\\mu g}{m^3}$', rotation=0)\n",
    "ax.set_xlabel('Time (MM-DD HH)')\n",
    "ax.legend(\n",
    "    loc=\"upper center\",\n",
    "    bbox_to_anchor=(0.5, 2.44),\n",
    "    ncol=6,\n",
    "    fancybox=True,\n",
    "    shadow=True,\n",
    ")\n",
    "ax = fig.add_subplot(2, 2, 1)\n",
    "size = 6\n",
    "ax.scatter(df_final['PM1 [ug/m3]'], df_final['PM1 [ug/m3]'], s=size, color = colors[0])\n",
    "ax.scatter(df_final['PM1 [ug/m3]'], df_final['UBC_PM_01_pm10_env'], s=size, color = colors[1])\n",
    "# ax.scatter(df_grim['PM1 [ug/m3]'], df_final['UBC_PM_02_pm10_env'], s=size, color = colors[2])\n",
    "ax.scatter(df_final['PM1 [ug/m3]'], df_final['UBC_PM_03_pm10_env'], s=size, color = colors[2])\n",
    "ax.scatter(df_final['PM1 [ug/m3]'], df_final['UBC_PM_04_pm10_env'], s=size, color = colors[3])\n",
    "ax.scatter(df_final['PM1 [ug/m3]'], df_final['UBC_PM_05_pm10_env'], s=size, color = colors[4])\n",
    "ax.set_ylabel(r'$\\frac{\\mu g}{m^3}$', rotation=0)\n",
    "ax.set_xlabel(r'$\\frac{\\mu g}{m^3}$')\n",
    "\n",
    "ax = fig.add_subplot(2, 2, 2)\n",
    "bins = 20\n",
    "alpha = 0.6\n",
    "ax.hist(df_final['PM1 [ug/m3]'],bins,alpha = alpha, color = colors[0], zorder = 10)\n",
    "ax.hist(df_final['UBC_PM_01_pm10_env'],bins, alpha = alpha, color = colors[1])\n",
    "# ax.hist(df_final['UBC_PM_02_pm10_env'],bins, alpha = alpha,color = colors[2])\n",
    "ax.hist(df_final['UBC_PM_03_pm10_env'],bins, alpha = alpha, color = colors[2])\n",
    "ax.hist(df_final['UBC_PM_04_pm10_env'],bins, alpha = alpha,color = colors[3])\n",
    "ax.hist(df_final['UBC_PM_05_pm10_env'],bins, alpha = alpha, color = colors[4])\n",
    "ax.set_ylabel('Count')\n",
    "ax.set_xlabel(r'$\\frac{\\mu g}{m^3}$')"
   ]
  },
  {
   "cell_type": "markdown",
   "metadata": {},
   "source": [
    "Figure shows time series comparison of the measured PM 1.0 contractions of four UBC AQ Sensors [UBC-PM-01 (orange), UBC-PM-03 (green), UBC-PM-04 (red), UBC-PM-05 (blue)] and the GRIM sensor [GRIMM (blue)]. The time series shows one minute averaged PM 1.0 contractions incremented from 2021-04-30 09:27:00 unitl 2021-04-30 21:36:00. "
   ]
  },
  {
   "cell_type": "markdown",
   "metadata": {
    "lines_to_next_cell": 0
   },
   "source": [
    "### Plot PM 2.5 "
   ]
  },
  {
   "cell_type": "code",
   "execution_count": null,
   "metadata": {
    "lines_to_next_cell": 2
   },
   "outputs": [],
   "source": [
    "\n",
    "\n",
    "fig = plt.figure(figsize=(14, 12))\n",
    "fig.autofmt_xdate()\n",
    "xfmt = DateFormatter(\"%m-%d %H:00\")\n",
    "fig.suptitle(r\"PM 2.5 ($\\frac{\\mu g}{m^3}$)\", fontsize=16)\n",
    "ax = fig.add_subplot(2, 1, 2)\n",
    "ax.plot(df_final.index,df_final['PM2.5 [ug/m3]'], lw = 4.0, label = 'GRIMM', color = colors[0])\n",
    "ax.plot(df_final.index,df_final['UBC_PM_01_pm25_env'], label = 'UBC-PM-01', color = colors[1])\n",
    "# ax.plot(df_final.index,df_final['UBC_PM_02_pm10_env'], label = 'UBC-PM-02', color = colors[2])\n",
    "ax.plot(df_final.index,df_final['UBC_PM_03_pm25_env'], label = 'UBC-PM-03', color = colors[2])\n",
    "ax.plot(df_final.index,df_final['UBC_PM_04_pm25_env'], label = 'UBC-PM-04', color = colors[3])\n",
    "ax.plot(df_final.index,df_final['UBC_PM_05_pm25_env'], label = 'UBC-PM-05', color = colors[4])\n",
    "ax.set_ylabel(r'$\\frac{\\mu g}{m^3}$', rotation=0)\n",
    "ax.set_xlabel('Time (MM-DD HH)')\n",
    "ax.legend(\n",
    "    loc=\"upper center\",\n",
    "    bbox_to_anchor=(0.5, 2.44),\n",
    "    ncol=6,\n",
    "    fancybox=True,\n",
    "    shadow=True,\n",
    ")\n",
    "ax = fig.add_subplot(2, 2, 1)\n",
    "size = 6\n",
    "ax.scatter(df_final['PM2.5 [ug/m3]'], df_final['PM2.5 [ug/m3]'], s=size, color = colors[0])\n",
    "ax.scatter(df_final['PM2.5 [ug/m3]'], df_final['UBC_PM_01_pm25_env'], s=size, color = colors[1])\n",
    "# ax.scatter(df_grim['PM2.5 [ug/m3]'], df_final['UBC_PM_02_pm25_env'], s=size, color = colors[2])\n",
    "ax.scatter(df_final['PM2.5 [ug/m3]'], df_final['UBC_PM_03_pm25_env'], s=size, color = colors[2])\n",
    "ax.scatter(df_final['PM2.5 [ug/m3]'], df_final['UBC_PM_04_pm25_env'], s=size, color = colors[3])\n",
    "ax.scatter(df_final['PM2.5 [ug/m3]'], df_final['UBC_PM_05_pm25_env'], s=size, color = colors[4])\n",
    "ax.set_ylabel(r'$\\frac{\\mu g}{m^3}$', rotation=0)\n",
    "ax.set_xlabel(r'$\\frac{\\mu g}{m^3}$')\n",
    "\n",
    "ax = fig.add_subplot(2, 2, 2)\n",
    "bins = 20\n",
    "alpha = 0.6\n",
    "ax.hist(df_final['PM2.5 [ug/m3]'],bins,alpha = alpha, color = colors[0], zorder = 10)\n",
    "ax.hist(df_final['UBC_PM_01_pm25_env'],bins, alpha = alpha, color = colors[1])\n",
    "# ax.hist(df_final['UBC_PM_02_pm25_env'],bins, alpha = alpha,color = colors[2])\n",
    "ax.hist(df_final['UBC_PM_03_pm25_env'],bins, alpha = alpha, color = colors[2])\n",
    "ax.hist(df_final['UBC_PM_04_pm25_env'],bins, alpha = alpha,color = colors[4])\n",
    "ax.hist(df_final['UBC_PM_05_pm25_env'],bins, alpha = alpha, color = colors[5])\n",
    "ax.set_ylabel('Count')\n",
    "ax.set_xlabel(r'$\\frac{\\mu g}{m^3}$')"
   ]
  },
  {
   "cell_type": "markdown",
   "metadata": {},
   "source": [
    "Figure shows time series comparison of the measured PM 2.5 contractions of four UBC AQ Sensors [UBC-PM-01 (orange), UBC-PM-03 (green), UBC-PM-04 (red), UBC-PM-05 (blue)] and the GRIM sensor [GRIMM (blue)]. The time series shows one minute averaged PM 1.0 contractions incremented from 2021-04-30 09:27:00 unitl 2021-04-30 21:36:00. "
   ]
  },
  {
   "cell_type": "markdown",
   "metadata": {
    "lines_to_next_cell": 0
   },
   "source": [
    "### Plot PM 10 "
   ]
  },
  {
   "cell_type": "code",
   "execution_count": null,
   "metadata": {
    "lines_to_next_cell": 2
   },
   "outputs": [],
   "source": [
    "\n",
    "fig = plt.figure(figsize=(14, 12))\n",
    "fig.autofmt_xdate()\n",
    "xfmt = DateFormatter(\"%m-%d %H:00\")\n",
    "fig.suptitle(r\"PM 10 ($\\frac{\\mu g}{m^3}$)\", fontsize=16)\n",
    "ax = fig.add_subplot(2, 1, 2)\n",
    "ax.plot(df_final.index,df_final['PM10 [ug/m3]'], lw = 4.0, label = 'GRIMM', color = colors[0])\n",
    "ax.plot(df_final.index,df_final['UBC_PM_01_pm100_env'], label = 'UBC-PM-01', color = colors[1])\n",
    "# ax.plot(df_final.index,df_final['UBC_PM_02_pm100_env'], label = 'UBC-PM-02', color = colors[2])\n",
    "ax.plot(df_final.index,df_final['UBC_PM_03_pm100_env'], label = 'UBC-PM-03', color = colors[2])\n",
    "ax.plot(df_final.index,df_final['UBC_PM_04_pm100_env'], label = 'UBC-PM-04', color = colors[3])\n",
    "ax.plot(df_final.index,df_final['UBC_PM_05_pm100_env'], label = 'UBC-PM-05', color = colors[4])\n",
    "ax.set_ylabel(r'$\\frac{\\mu g}{m^3}$', rotation=0)\n",
    "ax.set_xlabel('Time (MM-DD HH)')\n",
    "ax.legend(\n",
    "    loc=\"upper center\",\n",
    "    bbox_to_anchor=(0.5, 2.44),\n",
    "    ncol=6,\n",
    "    fancybox=True,\n",
    "    shadow=True,\n",
    ")\n",
    "ax = fig.add_subplot(2, 2, 1)\n",
    "size = 6\n",
    "ax.scatter(df_final['PM10 [ug/m3]'], df_final['PM10 [ug/m3]'], s=size, color = colors[0])\n",
    "ax.scatter(df_final['PM10 [ug/m3]'], df_final['UBC_PM_01_pm100_env'], s=size, color = colors[1])\n",
    "# ax.scatter(df_grim['PM10 [ug/m3]'], df_final['UBC_PM_02_pm100_env'], s=size, color = colors[2])\n",
    "ax.scatter(df_final['PM10 [ug/m3]'], df_final['UBC_PM_03_pm100_env'], s=size, color = colors[2])\n",
    "ax.scatter(df_final['PM10 [ug/m3]'], df_final['UBC_PM_04_pm100_env'], s=size, color = colors[3])\n",
    "ax.scatter(df_final['PM10 [ug/m3]'], df_final['UBC_PM_05_pm100_env'], s=size, color = colors[4])\n",
    "ax.set_ylabel(r'$\\frac{\\mu g}{m^3}$', rotation=0)\n",
    "ax.set_xlabel(r'$\\frac{\\mu g}{m^3}$')\n",
    "\n",
    "ax = fig.add_subplot(2, 2, 2)\n",
    "bins = 20\n",
    "alpha = 0.6\n",
    "ax.hist(df_final['PM10 [ug/m3]'],bins,alpha = alpha, color = colors[0], zorder = 10)\n",
    "ax.hist(df_final['UBC_PM_01_pm100_env'],bins, alpha = alpha, color = colors[1])\n",
    "# ax.hist(df_final['UBC_PM_02_pm10_env'],bins, alpha = alpha,color = colors[2])\n",
    "ax.hist(df_final['UBC_PM_03_pm100_env'],bins, alpha = alpha, color = colors[2])\n",
    "ax.hist(df_final['UBC_PM_04_pm100_env'],bins, alpha = alpha,color = colors[3])\n",
    "ax.hist(df_final['UBC_PM_05_pm100_env'],bins, alpha = alpha, color = colors[4])\n",
    "ax.set_ylabel('Count')\n",
    "ax.set_xlabel(r'$\\frac{\\mu g}{m^3}$')"
   ]
  },
  {
   "cell_type": "markdown",
   "metadata": {},
   "source": [
    "Figure shows time series comparison of the measured PM 10 contractions of four UBC AQ Sensors [UBC-PM-01 (orange), UBC-PM-03 (green), UBC-PM-04 (red), UBC-PM-05 (blue)] and the GRIM sensor [GRIMM (blue)]. The time series shows one minute averaged PM 1.0 contractions incremented from 2021-04-30 09:27:00 unitl 2021-04-30 21:36:00. "
   ]
  },
  {
   "cell_type": "markdown",
   "metadata": {
    "lines_to_next_cell": 0
   },
   "source": [
    "## Preliminary Results\n",
    "We see the UBC-AQ sensors are performing marginally well at PM 1.0 concentrations. However,  the UBC-AQ sensors are grossly over-predicting the concentration levels of PM 2.5 and 10. Let's figure out why this is happening. "
   ]
  },
  {
   "cell_type": "markdown",
   "metadata": {
    "lines_to_next_cell": 0
   },
   "source": [
    "### Plot time series PM 1.0, 2.5 and 10 from the GRIMM sensor."
   ]
  },
  {
   "cell_type": "code",
   "execution_count": null,
   "metadata": {
    "lines_to_next_cell": 0
   },
   "outputs": [],
   "source": [
    "fig = plt.figure(figsize=(14, 12))\n",
    "fig.autofmt_xdate()\n",
    "xfmt = DateFormatter(\"%m-%d %H:00\")\n",
    "alpha = 0.7\n",
    "\n",
    "fig.suptitle(r\"GRIMM PM [1, 2.5, 10] ($\\frac{\\mu g}{m^3}$)\", fontsize=16)\n",
    "ax = fig.add_subplot(2, 1, 2)\n",
    "ax.plot(df_final.index,df_final['PM1 [ug/m3]'], lw = 4.0, label = 'PM1', alpha = alpha,color = colors[0])\n",
    "ax.plot(df_final.index,df_final['PM2.5 [ug/m3]'], lw = 4.0, label = 'PM2.5',alpha = alpha, color = colors[1])\n",
    "ax.plot(df_final.index,df_final['PM10 [ug/m3]'], lw = 4.0, label = 'PM10', alpha = alpha,color = colors[2])\n",
    "\n",
    "ax.set_ylabel(r'$\\frac{\\mu g}{m^3}$', rotation=0)\n",
    "ax.set_xlabel('Time (MM-DD HH)')\n",
    "ax.legend(\n",
    "    loc=\"upper center\",\n",
    "    bbox_to_anchor=(0.5, 2.44),\n",
    "    ncol=6,\n",
    "    fancybox=True,\n",
    "    shadow=True,\n",
    ")\n",
    "ax = fig.add_subplot(2, 2, 1)\n",
    "size = 6\n",
    "ax.scatter(df_final['PM1 [ug/m3]'],df_final['PM1 [ug/m3]'], s=size, alpha = alpha,color = colors[0])\n",
    "ax.scatter(df_final['PM2.5 [ug/m3]'], df_final['PM2.5 [ug/m3]'], s=size,alpha = alpha, color = colors[1])\n",
    "ax.scatter(df_final['PM10 [ug/m3]'], df_final['PM10 [ug/m3]'], s=size, alpha = alpha,color = colors[2])\n",
    "\n",
    "ax.set_ylabel(r'$\\frac{\\mu g}{m^3}$', rotation=0)\n",
    "ax.set_xlabel(r'$\\frac{\\mu g}{m^3}$')\n",
    "\n",
    "ax = fig.add_subplot(2, 2, 2)\n",
    "bins = 20\n",
    "ax.hist(df_final['PM1 [ug/m3]'],bins,alpha = alpha, color = colors[0], zorder = 10)\n",
    "ax.hist(df_final['PM2.5 [ug/m3]'],bins,alpha = alpha, color = colors[1], zorder = 10)\n",
    "ax.hist(df_final['PM10 [ug/m3]'],bins,alpha = alpha, color = colors[2], zorder = 10)\n",
    "\n",
    "ax.set_ylabel('Count')\n",
    "ax.set_xlabel(r'$\\frac{\\mu g}{m^3}$')"
   ]
  },
  {
   "cell_type": "markdown",
   "metadata": {
    "lines_to_next_cell": 0
   },
   "source": [
    "The figure shows a comparison of the  GRIMM sensor PM [1, 2.5, 10]. "
   ]
  },
  {
   "cell_type": "markdown",
   "metadata": {
    "lines_to_next_cell": 0
   },
   "source": [
    "### Plot counts of particle sizes averaged over time."
   ]
  },
  {
   "cell_type": "code",
   "execution_count": null,
   "metadata": {},
   "outputs": [],
   "source": [
    "\n",
    "var_list = list(df_final)[6:37]\n",
    "var_labels = [var[:-2] for var in var_list]\n",
    "df_final_mean = df_final[var_list].mean()\n",
    "\n",
    "fig = plt.figure(figsize=(14, 6))\n",
    "fig.suptitle(\"Time averaged counts/liter of particles of size XX um\", fontsize=16)\n",
    "ax = fig.add_subplot(1, 1, 1)\n",
    "ax.bar(var_labels,df_final_mean)\n",
    "ax.set_ylabel('Counts/liter')\n",
    "ax.set_xlabel('Particles of size XX um')\n",
    "ax.set_xticklabels(var_labels, rotation=70, ha='right')"
   ]
  },
  {
   "cell_type": "markdown",
   "metadata": {
    "lines_to_next_cell": 0
   },
   "source": [
    "The figure shows time averaged counts/liter of particles of size XX um. \n",
    "<br>\n",
    "<br>"
   ]
  },
  {
   "cell_type": "markdown",
   "metadata": {
    "lines_to_next_cell": 0
   },
   "source": [
    "We see all air-borne salt particles are 0.7 um or lower, with the majority of size 0.3 um, meaning there should be no deviation in PM concentration for PM 1.0 2.5 and 10 values as they measure the particle size smaller than their respective values. Comparing the GRIMM measured PM [1.0, 2.5, 10] supports this as they are all effectively equal. \n",
    "<br>\n",
    "<br>\n",
    "We infer that our UBC-PM sensors aren't sensitive enough to delineate clusters of small practical from larger particles. As a result, we see high concentration values in the PM 2.5 and 10. "
   ]
  },
  {
   "cell_type": "markdown",
   "metadata": {
    "lines_to_next_cell": 0
   },
   "source": [
    "## Calibration\n",
    "We will test a multilayer perceptron (MLP) with a relu active function to determine the weights bias to correct inaccuracies of our UBC PM sensors. # %% [markdown]\n",
    "### Correct PM 1.0 with an MLP\n",
    "First, subset dataframe and normalize"
   ]
  },
  {
   "cell_type": "code",
   "execution_count": null,
   "metadata": {},
   "outputs": [],
   "source": [
    "pm = '2.5' \n",
    "pm_u = pm.replace('.', '')\n",
    "keep_vars = [f'PM{pm} [ug/m3]', f'UBC_PM_03_pm{pm_u}_env']\n",
    "df = df_final.drop(columns=[col for col in df_final if col not in keep_vars])\n",
    "df[f'UBC_PM_03_pm{pm_u}_env2'] = df[f'UBC_PM_03_pm{pm_u}_env']\n",
    "df.tail()"
   ]
  },
  {
   "cell_type": "markdown",
   "metadata": {
    "lines_to_next_cell": 0
   },
   "source": [
    "# normalize data and print"
   ]
  },
  {
   "cell_type": "code",
   "execution_count": null,
   "metadata": {},
   "outputs": [],
   "source": [
    "scaler = MinMaxScaler()\n",
    "scaled = scaler.fit_transform(df)\n",
    "\n",
    "# split up data\n",
    "y = scaled[:,0]\n",
    "x = scaled[:,1:]\n",
    "\n",
    "nhn = 8 \n",
    "hidden_layers = 2\n",
    "model = MLPRegressor(\n",
    "    hidden_layer_sizes=(nhn, hidden_layers),\n",
    "    verbose=False,\n",
    "    max_iter=1500,\n",
    "    early_stopping=True,\n",
    "    validation_fraction=0.2 ,\n",
    "    batch_size=32,\n",
    "    solver=\"adam\" ,\n",
    "    activation=\"relu\",\n",
    "    learning_rate_init=0.0001,\n",
    ")\n",
    "\n",
    "model.fit(x, y)  # train the model"
   ]
  },
  {
   "cell_type": "markdown",
   "metadata": {
    "lines_to_next_cell": 0
   },
   "source": [
    "Open a dataset from another days comparison"
   ]
  },
  {
   "cell_type": "code",
   "execution_count": null,
   "metadata": {},
   "outputs": [],
   "source": [
    "ubc_list = [prepare_df(f\"/UBC-PM-0{i}/\", '20210502') for i in range(1,6)]\n",
    "df_ubc = reduce(lambda x, y: pd.merge(x, y, on='rtctime'), ubc_list)\n",
    "df_ubc.columns = df_ubc.columns.str.replace('_y', '')\n",
    "min_ubc = np.argmin([len(ubc_list[i]) for i in range(len(ubc_list))])\n",
    "df_grim = open_grimm('20210502', ubc_list[min_ubc])\n",
    "df_final2 = pd.merge(left=df_grim, right=df_ubc, left_index=True, right_index=True, how='left')\n",
    "df_final2.columns = df_final2.columns.str.replace('_y', '')\n",
    "df_final2 = df_final2[:'2021-05-02T18:50']\n",
    "df_final2.head()"
   ]
  },
  {
   "cell_type": "markdown",
   "metadata": {
    "lines_to_next_cell": 0
   },
   "source": [
    "Normalize this data and use our mlp model to correct to grimm"
   ]
  },
  {
   "cell_type": "code",
   "execution_count": null,
   "metadata": {},
   "outputs": [],
   "source": [
    "keep_vars = [f'PM{pm} [ug/m3]', f'UBC_PM_03_pm{pm_u}_env']\n",
    "df2 = df_final2.drop(columns=[col for col in df_final2 if col not in keep_vars])\n",
    "df2[f'UBC_PM_03_pm{pm_u}_env2'] = df2[f'UBC_PM_03_pm{pm_u}_env']\n",
    "df2.tail()"
   ]
  },
  {
   "cell_type": "markdown",
   "metadata": {
    "lines_to_next_cell": 0
   },
   "source": [
    "# normalize data and print"
   ]
  },
  {
   "cell_type": "code",
   "execution_count": null,
   "metadata": {
    "lines_to_next_cell": 2
   },
   "outputs": [],
   "source": [
    "scaler2 = MinMaxScaler()\n",
    "scaled2 = scaler2.fit_transform(df2)\n",
    "\n",
    "# split up data\n",
    "y2 = scaled2[:,0]\n",
    "x2 = scaled2[:,1:]\n",
    "y_predict = model.predict(\n",
    "    x2\n",
    ") \n",
    "\n",
    "y_predict  = np.column_stack((y_predict,x2))\n",
    "unscaled = scaler.inverse_transform(y_predict)\n",
    "df_final2[f'UBC_PM_03_pm{pm_u}_cor'] = unscaled[:,0]"
   ]
  },
  {
   "cell_type": "code",
   "execution_count": null,
   "metadata": {
    "lines_to_next_cell": 0
   },
   "outputs": [],
   "source": [
    "fig = plt.figure(figsize=(14, 12))\n",
    "fig.autofmt_xdate()\n",
    "xfmt = DateFormatter(\"%m-%d %H:00\")\n",
    "fig.suptitle(r\"PM 2.5 ($\\frac{\\mu g}{m^3}$)\", fontsize=16)\n",
    "ax = fig.add_subplot(2, 1, 2)\n",
    "ax.plot(df_final2.index,df_final2[f'PM{pm} [ug/m3]'].values, lw = 4.0, label = 'GRIMM', color = colors[0])\n",
    "ax.plot(df_final2.index,df_final2[f'UBC_PM_03_pm{pm_u}_cor'], label = 'UBC-PM-03 Corrected', color = colors[1])\n",
    "ax.plot(df_final2.index,df_final2[f'UBC_PM_03_pm{pm_u}_env'].values, label = 'UBC-PM-03', color = colors[2])\n",
    "ax.set_ylabel(r'$\\frac{\\mu g}{m^3}$', rotation=0)\n",
    "ax.set_xlabel('Time (MM-DD HH)')\n",
    "ax.legend(\n",
    "    loc=\"upper center\",\n",
    "    bbox_to_anchor=(0.5, 2.44),\n",
    "    ncol=6,\n",
    "    fancybox=True,\n",
    "    shadow=True,\n",
    ")\n",
    "ax = fig.add_subplot(2, 2, 1)\n",
    "size = 6\n",
    "ax.scatter(df_final2[f'PM{pm} [ug/m3]'], df_final2[f'PM{pm} [ug/m3]'], s=size, color = colors[0])\n",
    "ax.scatter(df_final2[f'PM{pm} [ug/m3]'], df_final2[f'UBC_PM_03_pm{pm_u}_cor'], s=size, color = colors[1])\n",
    "ax.scatter(df_final2[f'PM{pm} [ug/m3]'], df_final2[f'UBC_PM_03_pm{pm_u}_env'], s=size, color = colors[2])\n",
    "ax.set_ylabel(r'$\\frac{\\mu g}{m^3}$', rotation=0)\n",
    "ax.set_xlabel(r'$\\frac{\\mu g}{m^3}$')\n",
    "\n",
    "ax = fig.add_subplot(2, 2, 2)\n",
    "bins = 20\n",
    "alpha = 0.6\n",
    "ax.hist(df_final2[f'PM{pm} [ug/m3]'],bins,alpha = alpha, color = colors[0], zorder = 10)\n",
    "ax.hist(df_final2[f'UBC_PM_03_pm{pm_u}_cor'],bins, alpha = alpha, color = colors[1])\n",
    "ax.hist(df_final2[f'UBC_PM_03_pm{pm_u}_env'],bins, alpha = alpha, color = colors[2])\n",
    "\n",
    "ax.set_ylabel('Count')\n",
    "ax.set_xlabel(r'$\\frac{\\mu g}{m^3}$')"
   ]
  },
  {
   "cell_type": "code",
   "execution_count": null,
   "metadata": {},
   "outputs": [],
   "source": []
  }
 ],
 "metadata": {
  "jupytext": {
   "cell_metadata_filter": "-all",
   "main_language": "python",
   "notebook_metadata_filter": "-all"
  },
  "language_info": {
   "codemirror_mode": {
    "name": "ipython",
    "version": 3
   },
   "file_extension": ".py",
   "mimetype": "text/x-python",
   "name": "python",
   "nbconvert_exporter": "python",
   "pygments_lexer": "ipython3",
   "version": "3.7.8"
  }
 },
 "nbformat": 4,
 "nbformat_minor": 4
}