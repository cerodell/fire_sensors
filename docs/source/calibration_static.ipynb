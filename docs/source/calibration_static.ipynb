{
 "cells": [
  {
   "cell_type": "markdown",
   "id": "nutritional-spelling",
   "metadata": {},
   "source": [
    " # UBC PM Sensor Calibration\n",
    "Calibrate the UBC PM senors to the RAMP PM sensor using simple linear regression (MLR)"
   ]
  },
  {
   "cell_type": "markdown",
   "id": "steady-realtor",
   "metadata": {
    "lines_to_next_cell": 0
   },
   "source": [
    "#### Load python modules and set inputs"
   ]
  },
  {
   "cell_type": "code",
   "execution_count": null,
   "id": "cellular-saturn",
   "metadata": {
    "lines_to_next_cell": 0
   },
   "outputs": [],
   "source": [
    "import context\n",
    "import numpy as np\n",
    "import pandas as pd\n",
    "import seaborn as sns\n",
    "from pathlib import Path\n",
    "import statsmodels.api as sm\n",
    "import matplotlib.pyplot as plt\n",
    "from matplotlib.dates import DateFormatter\n",
    "\n",
    "from sklearn import linear_model, feature_selection\n",
    "from utils.pm import read_ramp\n",
    "from context import data_dir, root_dir, img_dir\n",
    "\n",
    "\n",
    "file_date = \"220515\"\n",
    "ss = [\"2022-05-15 14:58:00\", \"2022-05-15 15:56:00\"]\n",
    "# ss = ['2022-05-17 12:00:00', '2022-05-17 15:01:00']\n",
    "# ubc_pms = [\"%.2d\" % i for i in range(1, 7)]\n",
    "ubc_pms = [\"01\", \"02\", \"04\", \"05\", \"06\"]"
   ]
  },
  {
   "cell_type": "markdown",
   "id": "mental-mainland",
   "metadata": {
    "lines_to_next_cell": 0
   },
   "source": [
    "#### read data for the RAMP"
   ]
  },
  {
   "cell_type": "code",
   "execution_count": null,
   "id": "noted-baker",
   "metadata": {
    "lines_to_next_cell": 2
   },
   "outputs": [],
   "source": [
    "ramp_pathlist = sorted(Path(str(data_dir) + f\"/RAMP/\").glob(f\"{file_date}*.TXT\"))\n",
    "ramp_df = read_ramp(ramp_pathlist)\n",
    "hours = pd.Timedelta(\"0 days 01:07:00\")\n",
    "ramp_df.index = ramp_df.index - hours\n",
    "ramp_df = ramp_df.sort_index()[ss[0] : ss[1]]\n",
    "ramp_df = ramp_df.resample(\"1Min\").mean()"
   ]
  },
  {
   "cell_type": "markdown",
   "id": "determined-license",
   "metadata": {
    "lines_to_next_cell": 0
   },
   "source": [
    "#### read data for the UBC pm sensors"
   ]
  },
  {
   "cell_type": "code",
   "execution_count": null,
   "id": "sharing-ukraine",
   "metadata": {
    "lines_to_next_cell": 2
   },
   "outputs": [],
   "source": [
    "\n",
    "ubc_pathlist = np.ravel(\n",
    "    [\n",
    "        sorted(Path(str(data_dir) + f\"/UBC-PM-{pm}/\").glob(f\"20{file_date}*.TXT\"))\n",
    "        for pm in ubc_pms\n",
    "    ]\n",
    ")\n",
    "\n",
    "\n",
    "def read_ubcpm(path):\n",
    "    path = str(path)\n",
    "    print(path)\n",
    "    df = pd.read_csv(path)\n",
    "    del df[\"rtctime\"]\n",
    "    df[\"test\"] = \"20\" + file_date + \"T\" + df[\"millis\"]\n",
    "    df[\"test\"] = pd.to_datetime(df[\"test\"])\n",
    "    pm_date_range = pd.Timestamp(\"20\" + file_date + \"T\" + path[-12:-4])\n",
    "    diff = pm_date_range - df[\"test\"][0]\n",
    "    df[\"datetime\"] = df[\"test\"] + diff\n",
    "    df = df.set_index(pd.DatetimeIndex(df[\"datetime\"]))\n",
    "    df = df.sort_index()[ss[0] : ss[1]]\n",
    "    df = df.resample(\"1Min\").mean()\n",
    "\n",
    "    return df\n",
    "\n",
    "\n",
    "ubc_dfs = [read_ubcpm(path) for path in ubc_pathlist]"
   ]
  },
  {
   "cell_type": "markdown",
   "id": "limited-separation",
   "metadata": {},
   "source": [
    "#### Plot time series\n",
    "Plot timesires of the 1 min rolling average"
   ]
  },
  {
   "cell_type": "code",
   "execution_count": null,
   "id": "weighted-aerospace",
   "metadata": {
    "lines_to_next_cell": 2
   },
   "outputs": [],
   "source": [
    "fig = plt.figure(figsize=(8, 8))  # (Width, height) in inches.\n",
    "fig.autofmt_xdate()\n",
    "ax = fig.add_subplot(1, 1, 1)\n",
    "for i in range(len(ubc_dfs)):\n",
    "    ax.plot(\n",
    "        ubc_dfs[i].index,\n",
    "        ubc_dfs[i][\"pm25_env\"],\n",
    "        label=f'UBC-PM-{ubc_pms[i]}  Mean: {int(ubc_dfs[i][\"pm25_env\"].mean())}'\n",
    "        + r\" ($\\frac{\\mu g}{m^3}$)\",\n",
    "    )\n",
    "ax.plot(\n",
    "    ramp_df.index,\n",
    "    ramp_df[\"pm25\"],\n",
    "    lw=2,\n",
    "    label=f'RAMP          Mean: {int(ramp_df[\"pm25\"].mean())}'\n",
    "    + r\" ($\\frac{\\mu g}{m^3}$)\",\n",
    ")\n",
    "xfmt = DateFormatter(\"%H:%M\")\n",
    "ax.xaxis.set_major_formatter(xfmt)\n",
    "ax.set_xlabel(\"Time (HH:MM)\", fontsize=14)\n",
    "ax.set_ylabel(r\"PM 2.5 ($\\frac{\\mu g}{m^3}$)\", fontsize=14)\n",
    "ax.tick_params(axis=\"both\", which=\"major\", labelsize=13)\n",
    "ax.xaxis.grid(color=\"gray\", linestyle=\"dashed\")\n",
    "ax.yaxis.grid(color=\"gray\", linestyle=\"dashed\")\n",
    "ax.legend(\n",
    "    loc=\"upper right\",\n",
    "    # bbox_to_anchor=(0.48, 1.15),\n",
    "    ncol=1,\n",
    "    fancybox=True,\n",
    "    shadow=True,\n",
    ")\n",
    "fig.tight_layout()\n",
    "\n",
    "plt.savefig(str(img_dir) + f\"/ramp-v-ubc-{file_date}.png\", dpi=300, bbox_inches=\"tight\")"
   ]
  },
  {
   "cell_type": "markdown",
   "id": "prime-maldives",
   "metadata": {},
   "source": [
    "Combine PM 2.5 data for all senors (UBCs and RAMP)into one df\n",
    "This dataframe will be use to create linear regression models for every ubc sensor"
   ]
  },
  {
   "cell_type": "code",
   "execution_count": null,
   "id": "quiet-agent",
   "metadata": {
    "lines_to_next_cell": 2
   },
   "outputs": [],
   "source": [
    "\n",
    "df = ramp_df.filter([\"pm25\"], axis=1)\n",
    "for i in range(len(ubc_pms)):\n",
    "    df[f\"pm25_{ubc_pms[i]}\"] = ubc_dfs[i][\"pm25_env\"]\n",
    "df.head()\n",
    "\n",
    "for i in range(len(ubc_pms)):\n",
    "    print(np.unique(np.isnan(ubc_dfs[i][\"pm25_env\"]), return_counts=True))\n",
    "    print(ubc_dfs[i].index[-1])"
   ]
  },
  {
   "cell_type": "markdown",
   "id": "joined-blame",
   "metadata": {},
   "source": [
    "##### Pearson correlation\n",
    "Solve Pearson correlation prior to linear regression\n",
    "$$\n",
    "r_{x y}=\\frac{\\sum_{i=1}^{n}\\left(x_{i}-\\bar{x}\\right)\\left(y_{i}-\\bar{y}\\right)}{\\sqrt{\\sum_{i=1}^{n}\\left(x_{i}-\\bar{x}\\right)^{2}} \\sqrt{\\sum_{i=1}^{n}\\left(y_{i}-\\bar{y}\\right)^{2}}}\n",
    "$$"
   ]
  },
  {
   "cell_type": "code",
   "execution_count": null,
   "id": "casual-nation",
   "metadata": {
    "lines_to_next_cell": 2
   },
   "outputs": [],
   "source": [
    "pm_rs = []\n",
    "for i in range(len(ubc_pms)):\n",
    "    pm_r = round(df[f\"pm25_{ubc_pms[i]}\"].corr(df[\"pm25\"]), 4)\n",
    "    pm_rs.append(pm_r)\n",
    "    print(f\"Pearson correlation for (ubc_{ubc_pms[i]},ramp) = {pm_r}\")"
   ]
  },
  {
   "cell_type": "markdown",
   "id": "informed-skirt",
   "metadata": {},
   "source": [
    "\n",
    "#### Scatter plots\n",
    "Make scatter plots of the data points for each pm sensor and plot the linear regression line in the scatter plots."
   ]
  },
  {
   "cell_type": "code",
   "execution_count": null,
   "id": "stainless-banking",
   "metadata": {},
   "outputs": [],
   "source": [
    "ny = len(ubc_pms) // 2\n",
    "nx = len(ubc_pms) - ny\n",
    "colors = plt.rcParams[\"axes.prop_cycle\"].by_key()[\"color\"]\n",
    "fig = plt.figure(figsize=(nx * 5, ny * 5))  # (Width, height) in inches.\n",
    "for i in range(len(ubc_pms)):\n",
    "    ax = fig.add_subplot(ny, nx, i + 1)\n",
    "    sns.regplot(x=df[f\"pm25_{ubc_pms[i]}\"], y=df[\"pm25\"], color=colors[i])\n",
    "    ax.set_title(f\"(ubc_{ubc_pms[i]},ramp) $r$ = {pm_rs[i]}\")\n",
    "    ax.set_ylabel(r\"RAMP PM 2.5 ($\\frac{\\mu g}{m^3}$)\", fontsize=14)\n",
    "    ax.set_xlabel(r\"UBC PM 2.5 ($\\frac{\\mu g}{m^3}$)\", fontsize=14)\n",
    "    ax.tick_params(axis=\"both\", which=\"major\", labelsize=13)\n",
    "    ax.xaxis.grid(color=\"gray\", linestyle=\"dashed\")\n",
    "    ax.yaxis.grid(color=\"gray\", linestyle=\"dashed\")\n",
    "fig.tight_layout()"
   ]
  },
  {
   "cell_type": "markdown",
   "id": "whole-desktop",
   "metadata": {},
   "source": [
    "##### Linear Regression\n",
    "Normalize data and check it out"
   ]
  },
  {
   "cell_type": "code",
   "execution_count": null,
   "id": "comparative-explosion",
   "metadata": {},
   "outputs": [],
   "source": [
    "# df_norm = (df - df.mean())/df.std()\n",
    "# df_norm.head()"
   ]
  },
  {
   "cell_type": "markdown",
   "id": "consecutive-orbit",
   "metadata": {
    "lines_to_next_cell": 0
   },
   "source": [
    "Target variable: y; predictor variable(s): x"
   ]
  },
  {
   "cell_type": "code",
   "execution_count": null,
   "id": "eleven-choice",
   "metadata": {},
   "outputs": [],
   "source": [
    "\n",
    "\n",
    "def make_mlr(i):\n",
    "    X = df[f\"pm25_{ubc_pms[i]}\"].values[:, np.newaxis]\n",
    "    y = df[\"pm25\"].values\n",
    "    lm_MLR = linear_model.LinearRegression()\n",
    "    model = lm_MLR.fit(X, y)\n",
    "    ypred_MLR = lm_MLR.predict(X)  # y predicted by MLR\n",
    "    intercept_MLR = lm_MLR.intercept_  # intercept predicted by MLR\n",
    "    coef_MLR = lm_MLR.coef_  # regression coefficients in MLR model\n",
    "    R2_MLR = lm_MLR.score(X, y)  # R-squared value from MLR model\n",
    "\n",
    "    print(\"MLR results:\")\n",
    "    print(f\"a0 = {intercept_MLR}\")\n",
    "\n",
    "    coeff = {\"a0\": intercept_MLR}\n",
    "    for j in range(len(coef_MLR)):\n",
    "        coeff.update({f\"a{j+1}\": coef_MLR[j]})\n",
    "        print(f\"a{j+1} = {coef_MLR[j]}\")\n",
    "    if len(coeff) > 2:\n",
    "        raise ValueError(\"This is a linear model, code only does single\")\n",
    "    else:\n",
    "        pass\n",
    "    ax = fig.add_subplot(ny, nx, i + 1)\n",
    "    ax.set_ylabel(r\"RAMP PM 2.5 ($\\frac{\\mu g}{m^3}$)\", fontsize=14)\n",
    "    ax.set_xlabel(r\"UBC PM 2.5 ($\\frac{\\mu g}{m^3}$)\", fontsize=14)\n",
    "    ax.tick_params(axis=\"both\", which=\"major\", labelsize=13)\n",
    "    ax.xaxis.grid(color=\"gray\", linestyle=\"dashed\")\n",
    "    ax.yaxis.grid(color=\"gray\", linestyle=\"dashed\")\n",
    "    sns.regplot(x=y, y=ypred_MLR, color=colors[i])\n",
    "    # print(coeff)\n",
    "    # print(coef_MLR)\n",
    "\n",
    "    ax.set_title(\n",
    "        f\"UBC-PM-{ubc_pms[i]}  MLR \"\n",
    "        + r\"$R^{2}$\"\n",
    "        + f\"= {round(R2_MLR,4)} \\n y = {round(coeff['a0'],4)} + {round(coeff['a1'],4)}x\"\n",
    "    )\n",
    "    return\n",
    "\n",
    "\n",
    "fig = plt.figure(figsize=(nx * 5, ny * 5))  # (Width, height) in inches.\n",
    "for i in range(len(ubc_pms)):\n",
    "    make_mlr(i)\n",
    "fig.tight_layout()\n",
    "fig.savefig(str(img_dir) + f\"/{file_date}-mlr.png\", dpi=250, bbox_inches=\"tight\")"
   ]
  }
 ],
 "metadata": {
  "jupytext": {
   "cell_metadata_filter": "-all",
   "main_language": "python",
   "notebook_metadata_filter": "-all"
  }
 },
 "nbformat": 4,
 "nbformat_minor": 5
}
